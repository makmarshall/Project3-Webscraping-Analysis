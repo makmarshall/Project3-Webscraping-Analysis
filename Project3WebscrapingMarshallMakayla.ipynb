{
 "cells": [
  {
   "cell_type": "markdown",
   "id": "87c46d59",
   "metadata": {},
   "source": [
    "# Project 3: Webscraping Data Analysis\n",
    "## Makayla Marshall\n",
    "## 4/11/2023"
   ]
  },
  {
   "cell_type": "markdown",
   "id": "c3dfcc1f",
   "metadata": {},
   "source": [
    "### Imports:"
   ]
  },
  {
   "cell_type": "code",
   "execution_count": 1,
   "id": "e488e99d",
   "metadata": {},
   "outputs": [],
   "source": [
    "# webscraping imports\n",
    "import requests\n",
    "from bs4 import BeautifulSoup as bs\n",
    "import pandas as pd"
   ]
  },
  {
   "cell_type": "markdown",
   "id": "77f310bc",
   "metadata": {},
   "source": [
    "### Request:"
   ]
  },
  {
   "cell_type": "code",
   "execution_count": 2,
   "id": "44c0c3e8",
   "metadata": {},
   "outputs": [],
   "source": [
    "def get_response(url):\n",
    "    response = requests.get(url) #use requests to get response from url\n",
    "    status = response.status_code #get the status of the response \n",
    "    if status == 200: #if it's all good (status of response)\n",
    "        page = response.text\n",
    "        soup = bs(page)\n",
    "        return soup\n",
    "    else:\n",
    "        print(f\"Oops! Received status code {status}\")\n",
    "        return 'Oops'"
   ]
  },
  {
   "cell_type": "markdown",
   "id": "cc9f51c5",
   "metadata": {},
   "source": [
    "### Get Info:"
   ]
  },
  {
   "cell_type": "code",
   "execution_count": 3,
   "id": "e9c8c5d5",
   "metadata": {
    "scrolled": false
   },
   "outputs": [],
   "source": [
    "def get_world_list(soup):\n",
    "    mov_list = []\n",
    "    mov_table = soup.find('table')\n",
    "    for movies in mov_table:\n",
    "        #get name of movie:\n",
    "        movie = movies.find('td', class_='a-text-left mojo-field-type-release_group')\n",
    "\n",
    "        #get the 3 different profit types (international, domestic, foreign):\n",
    "        profits = movies.find_all('td', class_='a-text-right mojo-field-type-money')\n",
    "\n",
    "        #save the three types into a list called money:\n",
    "        money = []\n",
    "        for profit in profits:\n",
    "            money.append(profit.text)\n",
    "\n",
    "\n",
    "        #skip saving it to the soon-to-be-data-frame if it's the first row, (kept causing errors because it's a nonetype):\n",
    "        if type(movie) != type(None): #save it to the soon-to-be-data-frame:\n",
    "            mov_list.append({'movie':movie.text,'international-profit':money[0], 'domestic-profit':money[1], 'foreign-profit':money[2]})\n",
    "    return mov_list"
   ]
  },
  {
   "cell_type": "code",
   "execution_count": 4,
   "id": "051e7943",
   "metadata": {
    "scrolled": false
   },
   "outputs": [],
   "source": [
    "def get_dom_list(soup):\n",
    "    mov_list = []\n",
    "    mov_table = soup.find('table')\n",
    "    for movies in mov_table:\n",
    "        #get name of movie:\n",
    "        movie = movies.find('td', class_='a-text-left mojo-field-type-release mojo-cell-wide')\n",
    "        gross = movies.find('td', class_='a-text-right mojo-field-type-money')\n",
    "        date = movies.find('td', class_='a-text-left mojo-header-column mojo-truncate mojo-field-type-date_interval mojo-sort-column')\n",
    "\n",
    "        \n",
    "        if type(movie) != type(None):#save it to the soon-to-be-data-frame if it isn't a nonetype (is the first row / label)\n",
    "            mov_list.append({'movie':movie.text, 'date':date.text, 'gross':gross.text})\n",
    "    return mov_list"
   ]
  },
  {
   "cell_type": "code",
   "execution_count": 5,
   "id": "721b883c",
   "metadata": {
    "scrolled": false
   },
   "outputs": [],
   "source": [
    "def get_dom2_list(soup):\n",
    "    mov_list = []\n",
    "    mov_table = soup.find('table')\n",
    "    for movies in mov_table:\n",
    "        #get name of movie:\n",
    "        movie = movies.find('td', class_='a-text-left mojo-field-type-release mojo-cell-wide')\n",
    "        gross = movies.find('td', class_='a-text-right mojo-field-type-money mojo-estimatable')\n",
    "        date = movies.find('td', class_='a-text-left mojo-header-column mojo-truncate mojo-field-type-named_interval mojo-sort-column')\n",
    "        \n",
    "        if type(movie) != type(None):#save it to the soon-to-be-data-frame if it isn't a nonetype (is the first row / label)\n",
    "            mov_list.append({'movie':movie.text, 'date':date.text, 'gross':gross.text})\n",
    "    return mov_list"
   ]
  },
  {
   "cell_type": "code",
   "execution_count": 6,
   "id": "af9ce836",
   "metadata": {
    "scrolled": false
   },
   "outputs": [],
   "source": [
    "def get_dom3_list(soup):\n",
    "    mov_list = []\n",
    "    mov_table = soup.find('table')\n",
    "    for movies in mov_table:\n",
    "        #get name of movie:\n",
    "        movie = movies.find('td', class_='a-text-left mojo-field-type-release mojo-cell-wide')\n",
    "        gross = movies.find('td', class_='a-text-right mojo-field-type-money')\n",
    "        date = movies.find('td', class_='a-text-left mojo-header-column mojo-truncate mojo-field-type-year mojo-sort-column')\n",
    "        if type(movie) != type(None):#save it to the soon-to-be-data-frame if it isn't a nonetype (is the first row / label)\n",
    "            mov_list.append({'#1 movie':movie.text, 'year':date.text, 'total gross':gross.text})\n",
    "    return mov_list"
   ]
  },
  {
   "cell_type": "markdown",
   "id": "ea867392",
   "metadata": {},
   "source": [
    "## Make Info List into a Data Frame:"
   ]
  },
  {
   "cell_type": "code",
   "execution_count": 7,
   "id": "7dbebd42",
   "metadata": {},
   "outputs": [],
   "source": [
    "#save space\n",
    "def retrieve_frame(url, second_phase):\n",
    "    return pd.DataFrame(second_phase(get_response(url)))"
   ]
  },
  {
   "cell_type": "code",
   "execution_count": 8,
   "id": "d972f5bf",
   "metadata": {},
   "outputs": [],
   "source": [
    "#each line creates a new dataframe from one website\n",
    "Worldwide2023 = retrieve_frame('https://www.boxofficemojo.com/year/world/?ref_=bo_nb_hm_tab', get_world_list)\n",
    "DomesticDaily2023 = retrieve_frame('https://www.boxofficemojo.com/date/?ref_=bo_nb_wey_secondarytab', get_dom_list)\n",
    "DomesticWeekly2023 = retrieve_frame('https://www.boxofficemojo.com/weekly/?ref_=bo_nb_di_secondarytab', get_dom_list)\n",
    "DomesticMonthly2023 = retrieve_frame('https://www.boxofficemojo.com/month/by-year/?grossesOption=calendarGrosses', get_dom2_list)\n",
    "DomesticYearly = retrieve_frame('https://www.boxofficemojo.com/year/?ref_=bo_nb_di_secondarytab', get_dom3_list)"
   ]
  },
  {
   "cell_type": "markdown",
   "id": "251afd09",
   "metadata": {},
   "source": [
    "## Save it as a csv to access in the analysis part"
   ]
  },
  {
   "cell_type": "code",
   "execution_count": 9,
   "id": "b4760f6f",
   "metadata": {},
   "outputs": [],
   "source": [
    "def make_csv(file, csv):\n",
    "    file.to_csv(csv)"
   ]
  },
  {
   "cell_type": "code",
   "execution_count": 10,
   "id": "05c4160c",
   "metadata": {},
   "outputs": [],
   "source": [
    "#each line creates a new csv\n",
    "make_csv(Worldwide2023, 'Worldwide2023.csv')\n",
    "make_csv(DomesticDaily2023, 'DomesticDaily2023.csv')\n",
    "make_csv(DomesticWeekly2023, 'DomesticWeekly2023.csv')\n",
    "make_csv(DomesticMonthly2023, 'DomesticMonthly2023.csv')\n",
    "make_csv(DomesticYearly, 'DomesticYearly.csv')"
   ]
  }
 ],
 "metadata": {
  "kernelspec": {
   "display_name": "Python 3 (ipykernel)",
   "language": "python",
   "name": "python3"
  },
  "language_info": {
   "codemirror_mode": {
    "name": "ipython",
    "version": 3
   },
   "file_extension": ".py",
   "mimetype": "text/x-python",
   "name": "python",
   "nbconvert_exporter": "python",
   "pygments_lexer": "ipython3",
   "version": "3.9.13"
  }
 },
 "nbformat": 4,
 "nbformat_minor": 5
}
